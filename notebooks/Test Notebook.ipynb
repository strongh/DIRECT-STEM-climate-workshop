{
 "cells": [
  {
   "cell_type": "markdown",
   "metadata": {},
   "source": [
    "# Test Notebook"
   ]
  },
  {
   "cell_type": "markdown",
   "metadata": {},
   "source": [
    "Load the packages that you previously installed:"
   ]
  },
  {
   "cell_type": "code",
   "execution_count": 1,
   "metadata": {
    "collapsed": false
   },
   "outputs": [],
   "source": [
    "import numpy as np\n",
    "from netCDF4 import Dataset\n",
    "import matplotlib.pyplot as plt\n",
    "from mpl_toolkits.basemap import Basemap\n",
    "import seaborn as sns\n",
    "from readCMIP5 import *\n",
    "\n",
    "%matplotlib inline"
   ]
  },
  {
   "cell_type": "markdown",
   "metadata": {},
   "source": [
    "Here we will define two variables and make a plot:"
   ]
  },
  {
   "cell_type": "code",
   "execution_count": 2,
   "metadata": {
    "collapsed": false
   },
   "outputs": [
    {
     "data": {
      "text/plain": [
       "[<matplotlib.lines.Line2D at 0x7fd29bd32a90>]"
      ]
     },
     "execution_count": 2,
     "metadata": {},
     "output_type": "execute_result"
    },
    {
     "data": {
      "image/png": "[encoded data removed]",
      "text/plain": [
       "<matplotlib.figure.Figure at 0x7fd29bd962d0>"
      ]
     },
     "metadata": {},
     "output_type": "display_data"
    }
   ],
   "source": [
    "x = [1,2,3,4]\n",
    "y = [1,3,6,4]\n",
    "plt.plot(x, y)"
   ]
  },
  {
   "cell_type": "markdown",
   "metadata": {},
   "source": [
    "Try reading some utility data."
   ]
  },
  {
   "cell_type": "code",
   "execution_count": 3,
   "metadata": {
    "collapsed": false
   },
   "outputs": [
    {
     "data": {
      "text/plain": [
       "(array([ 65.49738312,  66.43978882,  67.38220215,  68.32460785,\n",
       "         69.26701355,  70.20942688,  71.15183258,  72.09423828,\n",
       "         73.03665161,  73.97905731,  74.92146301,  75.86387634,\n",
       "         76.80628204,  77.74868774,  78.69110107,  79.63350677,\n",
       "         80.57591248,  81.51832581,  82.46073151,  83.40314484,\n",
       "         84.34555054,  85.28795624,  86.23036957,  87.17277527,\n",
       "         88.11518097,  89.0575943 ,  90.        ]),\n",
       " array([   0.  ,    1.25,    2.5 ,    3.75,    5.  ,    6.25,    7.5 ,\n",
       "           8.75,   10.  ,   11.25,   12.5 ,   13.75,   15.  ,   16.25,\n",
       "          17.5 ,   18.75,   20.  ,   21.25,   22.5 ,   23.75,   25.  ,\n",
       "          26.25,   27.5 ,   28.75,   30.  ,   31.25,   32.5 ,   33.75,\n",
       "          35.  ,   36.25,   37.5 ,   38.75,   40.  ,   41.25,   42.5 ,\n",
       "          43.75,   45.  ,   46.25,   47.5 ,   48.75,   50.  ,   51.25,\n",
       "          52.5 ,   53.75,   55.  ,   56.25,   57.5 ,   58.75,   60.  ,\n",
       "          61.25,   62.5 ,   63.75,   65.  ,   66.25,   67.5 ,   68.75,\n",
       "          70.  ,   71.25,   72.5 ,   73.75,   75.  ,   76.25,   77.5 ,\n",
       "          78.75,   80.  ,   81.25,   82.5 ,   83.75,   85.  ,   86.25,\n",
       "          87.5 ,   88.75,   90.  ,   91.25,   92.5 ,   93.75,   95.  ,\n",
       "          96.25,   97.5 ,   98.75,  100.  ,  101.25,  102.5 ,  103.75,\n",
       "         105.  ,  106.25,  107.5 ,  108.75,  110.  ,  111.25,  112.5 ,\n",
       "         113.75,  115.  ,  116.25,  117.5 ,  118.75,  120.  ,  121.25,\n",
       "         122.5 ,  123.75,  125.  ,  126.25,  127.5 ,  128.75,  130.  ,\n",
       "         131.25,  132.5 ,  133.75,  135.  ,  136.25,  137.5 ,  138.75,\n",
       "         140.  ,  141.25,  142.5 ,  143.75,  145.  ,  146.25,  147.5 ,\n",
       "         148.75,  150.  ,  151.25,  152.5 ,  153.75,  155.  ,  156.25,\n",
       "         157.5 ,  158.75,  160.  ,  161.25,  162.5 ,  163.75,  165.  ,\n",
       "         166.25,  167.5 ,  168.75,  170.  ,  171.25,  172.5 ,  173.75,\n",
       "         175.  ,  176.25,  177.5 ,  178.75,  180.  ,  181.25,  182.5 ,\n",
       "         183.75,  185.  ,  186.25,  187.5 ,  188.75,  190.  ,  191.25,\n",
       "         192.5 ,  193.75,  195.  ,  196.25,  197.5 ,  198.75,  200.  ,\n",
       "         201.25,  202.5 ,  203.75,  205.  ,  206.25,  207.5 ,  208.75,\n",
       "         210.  ,  211.25,  212.5 ,  213.75,  215.  ,  216.25,  217.5 ,\n",
       "         218.75,  220.  ,  221.25,  222.5 ,  223.75,  225.  ,  226.25,\n",
       "         227.5 ,  228.75,  230.  ,  231.25,  232.5 ,  233.75,  235.  ,\n",
       "         236.25,  237.5 ,  238.75,  240.  ,  241.25,  242.5 ,  243.75,\n",
       "         245.  ,  246.25,  247.5 ,  248.75,  250.  ,  251.25,  252.5 ,\n",
       "         253.75,  255.  ,  256.25,  257.5 ,  258.75,  260.  ,  261.25,\n",
       "         262.5 ,  263.75,  265.  ,  266.25,  267.5 ,  268.75,  270.  ,\n",
       "         271.25,  272.5 ,  273.75,  275.  ,  276.25,  277.5 ,  278.75,\n",
       "         280.  ,  281.25,  282.5 ,  283.75,  285.  ,  286.25,  287.5 ,\n",
       "         288.75,  290.  ,  291.25,  292.5 ,  293.75,  295.  ,  296.25,\n",
       "         297.5 ,  298.75,  300.  ,  301.25,  302.5 ,  303.75,  305.  ,\n",
       "         306.25,  307.5 ,  308.75,  310.  ,  311.25,  312.5 ,  313.75,\n",
       "         315.  ,  316.25,  317.5 ,  318.75,  320.  ,  321.25,  322.5 ,\n",
       "         323.75,  325.  ,  326.25,  327.5 ,  328.75,  330.  ,  331.25,\n",
       "         332.5 ,  333.75,  335.  ,  336.25,  337.5 ,  338.75,  340.  ,\n",
       "         341.25,  342.5 ,  343.75,  345.  ,  346.25,  347.5 ,  348.75,\n",
       "         350.  ,  351.25,  352.5 ,  353.75,  355.  ,  356.25,  357.5 ,\n",
       "         358.75]),\n",
       " array([[  6.04108186e+09,   6.04108186e+09,   6.04108186e+09, ...,\n",
       "           6.04108186e+09,   6.04108186e+09,   6.04108186e+09],\n",
       "        [  5.82226586e+09,   5.82226586e+09,   5.82226586e+09, ...,\n",
       "           5.82226586e+09,   5.82226586e+09,   5.82226586e+09],\n",
       "        [  5.60187392e+09,   5.60187392e+09,   5.60187392e+09, ...,\n",
       "           5.60187392e+09,   5.60187392e+09,   5.60187392e+09],\n",
       "        ..., \n",
       "        [  4.79084800e+08,   4.79084800e+08,   4.79084800e+08, ...,\n",
       "           4.79084800e+08,   4.79084800e+08,   4.79084800e+08],\n",
       "        [  2.39574800e+08,   2.39574800e+08,   2.39574800e+08, ...,\n",
       "           2.39574800e+08,   2.39574800e+08,   2.39574800e+08],\n",
       "        [  2.99483700e+07,   2.99483700e+07,   2.99483700e+07, ...,\n",
       "           2.99483700e+07,   2.99483700e+07,   2.99483700e+07]], dtype=float32))"
      ]
     },
     "execution_count": 3,
     "metadata": {},
     "output_type": "execute_result"
    }
   ],
   "source": [
    "readUtilityData(\"../data/\", \"gridded\", \"areacella\")"
   ]
  },
  {
   "cell_type": "code",
   "execution_count": null,
   "metadata": {
    "collapsed": true
   },
   "outputs": [],
   "source": []
  }
 ],
 "metadata": {
  "anaconda-cloud": {},
  "kernelspec": {
   "display_name": "Python 2",
   "language": "python",
   "name": "python2"
  },
  "language_info": {
   "codemirror_mode": {
    "name": "ipython",
    "version": 2
   },
   "file_extension": ".py",
   "mimetype": "text/x-python",
   "name": "python",
   "nbconvert_exporter": "python",
   "pygments_lexer": "ipython2",
   "version": "2.7.10"
  }
 },
 "nbformat": 4,
 "nbformat_minor": 0
}
