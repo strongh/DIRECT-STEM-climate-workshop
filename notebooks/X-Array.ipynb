{
 "cells": [
  {
   "cell_type": "code",
   "execution_count": 36,
   "metadata": {
    "collapsed": true
   },
   "outputs": [],
   "source": [
    "import numpy as np\n",
    "import pandas as pd\n",
    "import xarray as xr\n",
    "import seaborn as sns\n",
    "import cartopy.crs as ccrs\n",
    "%matplotlib inline"
   ]
  },
  {
   "cell_type": "code",
   "execution_count": 45,
   "metadata": {
    "collapsed": false
   },
   "outputs": [],
   "source": [
    "air_temp =  xr.open_dataset('ta_MLS_L3_v03-3x_200408-201012.nc')\n",
    "df = air_temp.to_dataframe()"
   ]
  },
  {
   "cell_type": "code",
   "execution_count": 8,
   "metadata": {
    "collapsed": false
   },
   "outputs": [
    {
     "data": {
      "text/html": [
       "<div>\n",
       "<table border=\"1\" class=\"dataframe\">\n",
       "  <thead>\n",
       "    <tr style=\"text-align: right;\">\n",
       "      <th></th>\n",
       "      <th></th>\n",
       "      <th></th>\n",
       "      <th></th>\n",
       "      <th></th>\n",
       "      <th>time_bnds</th>\n",
       "      <th>lat_bnds</th>\n",
       "      <th>lon_bnds</th>\n",
       "      <th>ta</th>\n",
       "    </tr>\n",
       "    <tr>\n",
       "      <th>bnds</th>\n",
       "      <th>lat</th>\n",
       "      <th>lon</th>\n",
       "      <th>plev</th>\n",
       "      <th>time</th>\n",
       "      <th></th>\n",
       "      <th></th>\n",
       "      <th></th>\n",
       "      <th></th>\n",
       "    </tr>\n",
       "  </thead>\n",
       "  <tbody>\n",
       "    <tr>\n",
       "      <th rowspan=\"5\" valign=\"top\">0</th>\n",
       "      <th rowspan=\"5\" valign=\"top\">-89.0</th>\n",
       "      <th rowspan=\"5\" valign=\"top\">0.0</th>\n",
       "      <th rowspan=\"5\" valign=\"top\">100000.0</th>\n",
       "      <th>2004-08-17 00:00:00</th>\n",
       "      <td>1674.0</td>\n",
       "      <td>-90.0</td>\n",
       "      <td>-2.5</td>\n",
       "      <td>NaN</td>\n",
       "    </tr>\n",
       "    <tr>\n",
       "      <th>2004-09-16 12:00:00</th>\n",
       "      <td>1705.0</td>\n",
       "      <td>-90.0</td>\n",
       "      <td>-2.5</td>\n",
       "      <td>NaN</td>\n",
       "    </tr>\n",
       "    <tr>\n",
       "      <th>2004-10-17 00:00:00</th>\n",
       "      <td>1735.0</td>\n",
       "      <td>-90.0</td>\n",
       "      <td>-2.5</td>\n",
       "      <td>NaN</td>\n",
       "    </tr>\n",
       "    <tr>\n",
       "      <th>2004-11-16 12:00:00</th>\n",
       "      <td>1766.0</td>\n",
       "      <td>-90.0</td>\n",
       "      <td>-2.5</td>\n",
       "      <td>NaN</td>\n",
       "    </tr>\n",
       "    <tr>\n",
       "      <th>2004-12-17 00:00:00</th>\n",
       "      <td>1796.0</td>\n",
       "      <td>-90.0</td>\n",
       "      <td>-2.5</td>\n",
       "      <td>NaN</td>\n",
       "    </tr>\n",
       "  </tbody>\n",
       "</table>\n",
       "</div>"
      ],
      "text/plain": [
       "                                             time_bnds  lat_bnds  lon_bnds  ta\n",
       "bnds lat   lon plev     time                                                  \n",
       "0    -89.0 0.0 100000.0 2004-08-17 00:00:00     1674.0     -90.0      -2.5 NaN\n",
       "                        2004-09-16 12:00:00     1705.0     -90.0      -2.5 NaN\n",
       "                        2004-10-17 00:00:00     1735.0     -90.0      -2.5 NaN\n",
       "                        2004-11-16 12:00:00     1766.0     -90.0      -2.5 NaN\n",
       "                        2004-12-17 00:00:00     1796.0     -90.0      -2.5 NaN"
      ]
     },
     "execution_count": 8,
     "metadata": {},
     "output_type": "execute_result"
    }
   ],
   "source": [
    "df.head()"
   ]
  },
  {
   "cell_type": "code",
   "execution_count": 9,
   "metadata": {
    "collapsed": false
   },
   "outputs": [
    {
     "data": {
      "text/html": [
       "<div>\n",
       "<table border=\"1\" class=\"dataframe\">\n",
       "  <thead>\n",
       "    <tr style=\"text-align: right;\">\n",
       "      <th></th>\n",
       "      <th>time_bnds</th>\n",
       "      <th>lat_bnds</th>\n",
       "      <th>lon_bnds</th>\n",
       "      <th>ta</th>\n",
       "    </tr>\n",
       "  </thead>\n",
       "  <tbody>\n",
       "    <tr>\n",
       "      <th>count</th>\n",
       "      <td>2.295216e+07</td>\n",
       "      <td>2.295216e+07</td>\n",
       "      <td>2.295216e+07</td>\n",
       "      <td>1.362890e+07</td>\n",
       "    </tr>\n",
       "    <tr>\n",
       "      <th>mean</th>\n",
       "      <td>2.845636e+03</td>\n",
       "      <td>0.000000e+00</td>\n",
       "      <td>1.775000e+02</td>\n",
       "      <td>2.281771e+02</td>\n",
       "    </tr>\n",
       "    <tr>\n",
       "      <th>std</th>\n",
       "      <td>6.766276e+02</td>\n",
       "      <td>5.196794e+01</td>\n",
       "      <td>1.039431e+02</td>\n",
       "      <td>2.016593e+01</td>\n",
       "    </tr>\n",
       "    <tr>\n",
       "      <th>min</th>\n",
       "      <td>1.674000e+03</td>\n",
       "      <td>-9.000000e+01</td>\n",
       "      <td>-2.500000e+00</td>\n",
       "      <td>1.787903e+02</td>\n",
       "    </tr>\n",
       "    <tr>\n",
       "      <th>25%</th>\n",
       "      <td>2.251000e+03</td>\n",
       "      <td>-4.450000e+01</td>\n",
       "      <td>8.750000e+01</td>\n",
       "      <td>2.140441e+02</td>\n",
       "    </tr>\n",
       "    <tr>\n",
       "      <th>50%</th>\n",
       "      <td>2.845500e+03</td>\n",
       "      <td>0.000000e+00</td>\n",
       "      <td>1.775000e+02</td>\n",
       "      <td>2.241957e+02</td>\n",
       "    </tr>\n",
       "    <tr>\n",
       "      <th>75%</th>\n",
       "      <td>3.439000e+03</td>\n",
       "      <td>4.450000e+01</td>\n",
       "      <td>2.675000e+02</td>\n",
       "      <td>2.435092e+02</td>\n",
       "    </tr>\n",
       "    <tr>\n",
       "      <th>max</th>\n",
       "      <td>4.018000e+03</td>\n",
       "      <td>9.000000e+01</td>\n",
       "      <td>3.575000e+02</td>\n",
       "      <td>2.937771e+02</td>\n",
       "    </tr>\n",
       "  </tbody>\n",
       "</table>\n",
       "</div>"
      ],
      "text/plain": [
       "          time_bnds      lat_bnds      lon_bnds            ta\n",
       "count  2.295216e+07  2.295216e+07  2.295216e+07  1.362890e+07\n",
       "mean   2.845636e+03  0.000000e+00  1.775000e+02  2.281771e+02\n",
       "std    6.766276e+02  5.196794e+01  1.039431e+02  2.016593e+01\n",
       "min    1.674000e+03 -9.000000e+01 -2.500000e+00  1.787903e+02\n",
       "25%    2.251000e+03 -4.450000e+01  8.750000e+01  2.140441e+02\n",
       "50%    2.845500e+03  0.000000e+00  1.775000e+02  2.241957e+02\n",
       "75%    3.439000e+03  4.450000e+01  2.675000e+02  2.435092e+02\n",
       "max    4.018000e+03  9.000000e+01  3.575000e+02  2.937771e+02"
      ]
     },
     "execution_count": 9,
     "metadata": {},
     "output_type": "execute_result"
    }
   ],
   "source": [
    "df.describe()"
   ]
  },
  {
   "cell_type": "code",
   "execution_count": 50,
   "metadata": {
    "collapsed": false
   },
   "outputs": [
    {
     "data": {
      "text/plain": [
       "<matplotlib.axes._subplots.AxesSubplot at 0x7fd2ac9f16d0>"
      ]
     },
     "execution_count": 50,
     "metadata": {},
     "output_type": "execute_result"
    },
    {
     "data": {
      "image/png": "[encoded data removed]",
      "text/plain": [
       "<matplotlib.figure.Figure at 0x7fd2aca80710>"
      ]
     },
     "metadata": {},
     "output_type": "display_data"
    }
   ],
   "source": [
    "air_temp.mean(dim=[\"lat\", \"lon\", \"plev\", \"bnds\"])[\"ta\"].to_dataframe().plot()"
   ]
  },
  {
   "cell_type": "code",
   "execution_count": 85,
   "metadata": {
    "collapsed": false
   },
   "outputs": [
    {
     "data": {
      "text/plain": [
       "<matplotlib.collections.QuadMesh at 0x7fd2ac123550>"
      ]
     },
     "execution_count": 85,
     "metadata": {},
     "output_type": "execute_result"
    },
    {
     "data": {
      "image/png": "[encoded data removed]",
      "text/plain": [
       "<matplotlib.figure.Figure at 0x7fd2c2ba15d0>"
      ]
     },
     "metadata": {},
     "output_type": "display_data"
    }
   ],
   "source": [
    "air_temp.mean(dim=[\"time\", \"plev\", \"bnds\"], skipna=True)[\"ta\"].plot()"
   ]
  },
  {
   "cell_type": "code",
   "execution_count": 64,
   "metadata": {
    "collapsed": false
   },
   "outputs": [
    {
     "data": {
      "text/plain": [
       "<xarray.Dataset>\n",
       "Dimensions:    (bnds: 2, lat: 90, lon: 72, plev: 23, time: 77)\n",
       "Coordinates:\n",
       "  * time       (time) datetime64[ns] 2004-08-17 2004-09-16T12:00:00 ...\n",
       "  * plev       (plev) float64 1e+05 9.25e+04 8.5e+04 7e+04 6e+04 5e+04 4e+04 ...\n",
       "  * lat        (lat) float64 -89.0 -87.0 -85.0 -83.0 -81.0 -79.0 -77.0 -75.0 ...\n",
       "  * lon        (lon) float64 0.0 5.0 10.0 15.0 20.0 25.0 30.0 35.0 40.0 45.0 ...\n",
       "  * bnds       (bnds) int64 0 1\n",
       "Data variables:\n",
       "    time_bnds  (time, bnds) float64 1.674e+03 1.705e+03 1.705e+03 1.735e+03 ...\n",
       "    lat_bnds   (lat, bnds) float64 -90.0 -88.0 -88.0 -86.0 -86.0 -84.0 -84.0 ...\n",
       "    lon_bnds   (lon, bnds) float64 -2.5 2.5 2.5 7.5 7.5 12.5 12.5 17.5 17.5 ...\n",
       "    ta         (time, plev, lat, lon) float64 nan nan nan nan nan nan nan ...\n",
       "Attributes:\n",
       "    institution: National Aeronautics and Space Administration, Jet Propulsion Laboratory (Pasadena, CA)\n",
       "    institute_id: NASA-JPL\n",
       "    experiment_id: obs\n",
       "    source: MLS 2004 v03.3 (Microwave Limb Sounder) retrievals\n",
       "    model_id: Obs-MLS\n",
       "    contact: Nathaniel Livesey (Nathaniel.J.Livesey@jpl.nasa.gov)\n",
       "    comment: Binned observations of the Aura MLS instrument\n",
       "    references: http://mls.jpl.nasa.gov/data/v3-3_data_quality_document.pdf\n",
       "    tracking_id: bbc06d79-ddfe-4bf8-98da-854cc6fae38c\n",
       "    instrument: MLS\n",
       "    obs_project: AURA\n",
       "    source_type: satellite_retrieval\n",
       "    data_structure: grid\n",
       "    processing_level: L3\n",
       "    processing_version: v03-3x\n",
       "    mip_specs: CMIP5\n",
       "    realm: atmos\n",
       "    source_id: MLS\n",
       "    product: observations\n",
       "    frequency: mon\n",
       "    creation_date: 2011-10-18T22:56:55Z\n",
       "    history: 2011-10-18T22:56:55Z CMOR rewrote data to comply with CF standards and obs4MIPs requirements.\n",
       "    Conventions: CF-1.4\n",
       "    project_id: obs4MIPs\n",
       "    table_id: Table Amon_obs (10 March 2011) 0ca561c98ae2f86c921ebfa08ae4ce45\n",
       "    title: Obs-MLS model output prepared for obs4MIPs NASA-JPL observation\n",
       "    modeling_realm: atmos\n",
       "    cmor_version: 2.5.3"
      ]
     },
     "execution_count": 64,
     "metadata": {},
     "output_type": "execute_result"
    }
   ],
   "source": [
    "air_temp"
   ]
  },
  {
   "cell_type": "code",
   "execution_count": 59,
   "metadata": {
    "collapsed": false
   },
   "outputs": [
    {
     "name": "stdout",
     "output_type": "stream",
     "text": [
      "Reduce this Dataset's data by applying `mean` along some\n",
      "        dimension(s).\n",
      "\n",
      "        Parameters\n",
      "        ----------\n",
      "        dim : str or sequence of str, optional\n",
      "            Dimension(s) over which to apply `func`.  By default `func` is\n",
      "            applied over all dimensions.\n",
      "        skipna : bool, optional\n",
      "            If True, skip missing values (as marked by NaN). By default, only\n",
      "            skips missing values for float dtypes; other dtypes either do not\n",
      "            have a sentinel missing value (int) or skipna=True has not been\n",
      "            implemented (object, datetime64 or timedelta64).\n",
      "        keep_attrs : bool, optional\n",
      "            If True, the attributes (`attrs`) will be copied from the original\n",
      "            object to the new one.  If False (default), the new object will be\n",
      "            returned without attributes.\n",
      "        **kwargs : dict\n",
      "            Additional keyword arguments passed on to `mean`.\n",
      "\n",
      "        Returns\n",
      "        -------\n",
      "        reduced : Dataset\n",
      "            New Dataset object with `mean` applied to its data and the\n",
      "            indicated dimension(s) removed.\n",
      "        \n"
     ]
    }
   ],
   "source": []
  },
  {
   "cell_type": "code",
   "execution_count": null,
   "metadata": {
    "collapsed": true
   },
   "outputs": [],
   "source": []
  }
 ],
 "metadata": {
  "kernelspec": {
   "display_name": "Python 2",
   "language": "python",
   "name": "python2"
  },
  "language_info": {
   "codemirror_mode": {
    "name": "ipython",
    "version": 2
   },
   "file_extension": ".py",
   "mimetype": "text/x-python",
   "name": "python",
   "nbconvert_exporter": "python",
   "pygments_lexer": "ipython2",
   "version": "2.7.10"
  }
 },
 "nbformat": 4,
 "nbformat_minor": 0
}
